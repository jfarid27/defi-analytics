{
 "cells": [
  {
   "cell_type": "code",
   "execution_count": 1,
   "metadata": {},
   "outputs": [],
   "source": [
    "from playwright.async_api import async_playwright\n",
    "import plotly.express as px\n",
    "import plotly.graph_objects as go\n",
    "from controllers.defillama import get_table_data\n",
    "import pandas as pd\n",
    "\n",
    "url = \"https://defillama.com/yields?token=DAI&token=USDC&token=USDT&token=FRAX&token=GHO&token=OHM&chain=Ethereum&chain=Arbitrum&category=Lending&category=Algo-Stables\"\n"
   ]
  },
  {
   "cell_type": "code",
   "execution_count": 2,
   "metadata": {},
   "outputs": [],
   "source": [
    "async with async_playwright() as p:\n",
    "    browser = await p.firefox.launch(headless=True)\n",
    "    page = await browser.new_page()\n",
    "    df = await get_table_data(page, url)\n",
    "    await browser.close()"
   ]
  },
  {
   "cell_type": "code",
   "execution_count": 15,
   "metadata": {},
   "outputs": [],
   "source": [
    "conditions = [\n",
    "    {'ticker': 'USDC', 'platform': 'AAVE V3', 'chain': 'Ethereum'},\n",
    "    {'ticker': 'DAI', 'platform': 'Spark', 'chain': 'Ethereum'},\n",
    "    {'ticker': 'USDT', 'platform': 'AAVE V3', 'chain': 'Ethereum'},\n",
    "    {'ticker': 'GHO', 'platform': 'AAVE V3', 'chain': 'Ethereum'},\n",
    "    {'ticker': 'SFRAX', 'platform': 'Frax', 'chain': 'Ethereum'},\n",
    "    # Add more combinations as needed\n",
    "]\n",
    "\n",
    "# Create a list to store filtered dataframes\n",
    "filtered_dfs = []\n",
    "\n",
    "# Iterate over the conditions and filter the dataframe\n",
    "for condition in conditions:\n",
    "    query_str = f\"ticker == '{condition['ticker']}' and platform == '{condition['platform']}' and chain == '{condition['chain']}'\"\n",
    "    filtered_df = df.query(query_str)\n",
    "    filtered_dfs.append(filtered_df)\n",
    "\n",
    "final_filtered_df = pd.concat(filtered_dfs)"
   ]
  },
  {
   "cell_type": "code",
   "execution_count": 16,
   "metadata": {},
   "outputs": [
    {
     "data": {
      "text/html": [
       "<div>\n",
       "<style scoped>\n",
       "    .dataframe tbody tr th:only-of-type {\n",
       "        vertical-align: middle;\n",
       "    }\n",
       "\n",
       "    .dataframe tbody tr th {\n",
       "        vertical-align: top;\n",
       "    }\n",
       "\n",
       "    .dataframe thead th {\n",
       "        text-align: right;\n",
       "    }\n",
       "</style>\n",
       "<table border=\"1\" class=\"dataframe\">\n",
       "  <thead>\n",
       "    <tr style=\"text-align: right;\">\n",
       "      <th></th>\n",
       "      <th>ticker</th>\n",
       "      <th>platform</th>\n",
       "      <th>chain</th>\n",
       "      <th>tvl</th>\n",
       "      <th>apy</th>\n",
       "    </tr>\n",
       "  </thead>\n",
       "  <tbody>\n",
       "    <tr>\n",
       "      <th>2</th>\n",
       "      <td>USDC</td>\n",
       "      <td>AAVE V3</td>\n",
       "      <td>Ethereum</td>\n",
       "      <td>$184.25m</td>\n",
       "      <td>4.16%</td>\n",
       "    </tr>\n",
       "    <tr>\n",
       "      <th>15</th>\n",
       "      <td>DAI</td>\n",
       "      <td>Spark</td>\n",
       "      <td>Ethereum</td>\n",
       "      <td>$42.87m</td>\n",
       "      <td>6.44%</td>\n",
       "    </tr>\n",
       "    <tr>\n",
       "      <th>0</th>\n",
       "      <td>USDT</td>\n",
       "      <td>AAVE V3</td>\n",
       "      <td>Ethereum</td>\n",
       "      <td>$457.49m</td>\n",
       "      <td>2.86%</td>\n",
       "    </tr>\n",
       "    <tr>\n",
       "      <th>4</th>\n",
       "      <td>GHO</td>\n",
       "      <td>AAVE V3</td>\n",
       "      <td>Ethereum</td>\n",
       "      <td>$114.16m</td>\n",
       "      <td>17.79%</td>\n",
       "    </tr>\n",
       "    <tr>\n",
       "      <th>12</th>\n",
       "      <td>SFRAX</td>\n",
       "      <td>Frax</td>\n",
       "      <td>Ethereum</td>\n",
       "      <td>$52.35m</td>\n",
       "      <td>6.19%</td>\n",
       "    </tr>\n",
       "  </tbody>\n",
       "</table>\n",
       "</div>"
      ],
      "text/plain": [
       "   ticker platform     chain       tvl     apy\n",
       "2    USDC  AAVE V3  Ethereum  $184.25m   4.16%\n",
       "15    DAI    Spark  Ethereum   $42.87m   6.44%\n",
       "0    USDT  AAVE V3  Ethereum  $457.49m   2.86%\n",
       "4     GHO  AAVE V3  Ethereum  $114.16m  17.79%\n",
       "12  SFRAX     Frax  Ethereum   $52.35m   6.19%"
      ]
     },
     "execution_count": 16,
     "metadata": {},
     "output_type": "execute_result"
    }
   ],
   "source": [
    "final_filtered_df"
   ]
  },
  {
   "cell_type": "code",
   "execution_count": null,
   "metadata": {},
   "outputs": [],
   "source": []
  }
 ],
 "metadata": {
  "kernelspec": {
   "display_name": "Python 3 (ipykernel)",
   "language": "python",
   "name": "python3"
  },
  "language_info": {
   "codemirror_mode": {
    "name": "ipython",
    "version": 3
   },
   "file_extension": ".py",
   "mimetype": "text/x-python",
   "name": "python",
   "nbconvert_exporter": "python",
   "pygments_lexer": "ipython3",
   "version": "3.12.5"
  }
 },
 "nbformat": 4,
 "nbformat_minor": 2
}
